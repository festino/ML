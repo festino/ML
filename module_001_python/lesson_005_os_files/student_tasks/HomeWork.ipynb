{
 "cells": [
  {
   "cell_type": "markdown",
   "metadata": {},
   "source": [
    "# Задача 1\n",
    "* Копирование файла, в текущей папке есть изображение img1.jpg, нужно скопировать это изображение и назвать img2.jpg\n",
    "\n",
    "Режимы открытия файла, можно прочитать здесь: https://www.w3schools.com/python/ref_func_open.asp"
   ]
  },
  {
   "cell_type": "code",
   "execution_count": 46,
   "metadata": {},
   "outputs": [],
   "source": [
    "#better use shutil.copy() \n",
    "with open('img1.jpg', 'br') as fi:\n",
    "    with open('img2.jpg', 'bw') as fo:\n",
    "        fo.write(fi.read())\n",
    "        \n",
    "with open('test.png', 'br') as fi:\n",
    "    with open('test-processed.png', 'bw') as fo:\n",
    "        byte = fi.read(1)\n",
    "        while byte != b'':\n",
    "            fo.write(byte)\n",
    "            byte = fi.read(1)\n",
    "            \n",
    "        '''for i in range(8):\n",
    "            fo.write(byte)\n",
    "            byte = fi.read(1)\n",
    "            \n",
    "        while byte != b'':\n",
    "            t = int.from_bytes(byte, byteorder='big', signed=True)\n",
    "            t = t & int('00111111', 2)\n",
    "            byte = t.to_bytes(1, byteorder='big', signed=True)\n",
    "            fo.write(byte)\n",
    "            byte = fi.read(1)'''\n",
    "            \n",
    "    '''i = int.from_bytes(b'\\x00\\x0F', byteorder='big', signed=True)\n",
    "print(i)\n",
    "single_byte = i.to_bytes(1, byteorder='big', signed=True) \n",
    "print(single_byte)\n",
    "one_byte = int('11110000', 2)\n",
    "print(one_byte)'''"
   ]
  },
  {
   "cell_type": "markdown",
   "metadata": {},
   "source": [
    "# Задача 2\n",
    "* В текущей директории лежит файл addresses.csv, прочитайте этот файл, выведите информацию о том сколько в нем записей(строк) и сколько признаков(колонок), добавьте каждой записи новую колонку country и запишите информацию в новый файл addresses2.csv\n",
    "\n",
    "Информация о writer - https://docs.python.org/3/library/csv.html"
   ]
  },
  {
   "cell_type": "code",
   "execution_count": 41,
   "metadata": {},
   "outputs": [
    {
     "name": "stdout",
     "output_type": "stream",
     "text": [
      "Rows: 6, columns: 6\n",
      "[['John', 'Doe', '120 jefferson st.', 'Riverside', ' NJ', ' 08075'], ['Jack', 'McGinnis', '220 hobo Av.', 'Phila', ' PA', '09119'], ['John \"Da Man\"', 'Repici', '120 Jefferson St.', 'Riverside', ' NJ', '08075'], ['Stephen', 'Tyler', '7452 Terrace \"At the Plaza\" road', 'SomeTown', 'SD', ' 91234'], ['', 'Blankman', '', 'SomeTown', ' SD', ' 00298'], ['Joan \"the bone\", Anne', 'Jet', '9th, at Terrace plc', 'Desert City', 'CO', '00123']]\n",
      "Rows: 6, columns: 7\n",
      "[['John', 'Doe', '120 jefferson st.', 'Riverside', ' NJ', ' 08075', 'Brazil'], ['Jack', 'McGinnis', '220 hobo Av.', 'Phila', ' PA', '09119', 'Brazil'], ['John \"Da Man\"', 'Repici', '120 Jefferson St.', 'Riverside', ' NJ', '08075', 'France'], ['Stephen', 'Tyler', '7452 Terrace \"At the Plaza\" road', 'SomeTown', 'SD', ' 91234', 'USA'], ['', 'Blankman', '', 'SomeTown', ' SD', ' 00298', 'USA'], ['Joan \"the bone\", Anne', 'Jet', '9th, at Terrace plc', 'Desert City', 'CO', '00123', 'USA']]\n"
     ]
    }
   ],
   "source": [
    "import csv\n",
    "import random\n",
    "\n",
    "data = []\n",
    "with open('addresses.csv', 'r') as fin:\n",
    "    csv_reader = csv.reader(fin, delimiter=',')\n",
    "    for row in csv_reader:\n",
    "        data.append(row)\n",
    "    print('Rows: ', len(data), ', columns: ', len(data[0]), sep='')\n",
    "    print(data)\n",
    "    \n",
    "countries = ['USA', 'Brazil', 'Germany', 'France']\n",
    "with open('addresses2.csv', 'w') as fout:\n",
    "    csv_writer = csv.writer(fout, delimiter=',', lineterminator='\\n')\n",
    "    for i in range(len(data)):\n",
    "        num = random.randint(0, len(countries)-1)\n",
    "        csv_writer.writerow(data[i] + [countries[num]])\n",
    "\n",
    "data = []\n",
    "with open('addresses2.csv', 'r') as fin:\n",
    "    csv_reader = csv.reader(fin, delimiter=',')\n",
    "    for row in csv_reader:\n",
    "        data.append(row)\n",
    "    print('Rows: ', len(data), ', columns: ', len(data[0]), sep='')\n",
    "    print(data)"
   ]
  }
 ],
 "metadata": {
  "kernelspec": {
   "display_name": "Python 3",
   "language": "python",
   "name": "python3"
  },
  "language_info": {
   "codemirror_mode": {
    "name": "ipython",
    "version": 3
   },
   "file_extension": ".py",
   "mimetype": "text/x-python",
   "name": "python",
   "nbconvert_exporter": "python",
   "pygments_lexer": "ipython3",
   "version": "3.7.3"
  }
 },
 "nbformat": 4,
 "nbformat_minor": 2
}
