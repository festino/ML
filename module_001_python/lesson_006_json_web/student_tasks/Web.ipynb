{
 "cells": [
  {
   "cell_type": "markdown",
   "metadata": {},
   "source": [
    "Используя тестовый сервер предоставляющий REST-API: https://jsonplaceholder.typicode.com/, выполнить следующие действия\n",
    "\n",
    "* Найти id пользователя с именим **Nicholas Runolfsdottir V**\n",
    "* Загрузить все посты данного пользователя\n",
    "* Выбрать случайный пост и загрузить все комментарии поста"
   ]
  },
  {
   "cell_type": "code",
   "execution_count": 21,
   "metadata": {},
   "outputs": [
    {
     "name": "stdout",
     "output_type": "stream",
     "text": [
      "User: {'id': 8, 'name': 'Nicholas Runolfsdottir V', 'username': 'Maxime_Nienow', 'email': 'Sherwood@rosamond.me', 'address': {'street': 'Ellsworth Summit', 'suite': 'Suite 729', 'city': 'Aliyaview', 'zipcode': '45169', 'geo': {'lat': '-14.3990', 'lng': '-120.7677'}}, 'phone': '586.493.6943 x140', 'website': 'jacynthe.com', 'company': {'name': 'Abernathy Group', 'catchPhrase': 'Implemented secondary concept', 'bs': 'e-enable extensible e-tailers'}}\n",
      "10 posts, 1 ( 71 ) choosen\n",
      "[\n",
      "  {\n",
      "    \"postId\": 71,\n",
      "    \"id\": 351,\n",
      "    \"name\": \"quia ex perspiciatis sunt voluptatem quidem\",\n",
      "    \"email\": \"Solon.Goldner@judah.org\",\n",
      "    \"body\": \"quo nisi impedit velit repellendus esse itaque ut saepe\\nvoluptatibus occaecati ab eaque dolores\\nmaxime alias velit ducimus placeat sit laudantium quia\\ncorrupti doloremque ut\"\n",
      "  },\n",
      "  {\n",
      "    \"postId\": 71,\n",
      "    \"id\": 352,\n",
      "    \"name\": \"sit ipsam voluptatem velit\",\n",
      "    \"email\": \"Nina@osbaldo.name\",\n",
      "    \"body\": \"dolorem eius voluptatem vitae aliquid unde labore est\\nmolestiae labore dolorem beatae voluptatem soluta eum eos dolore\\net ea quasi aut doloribus sint\\nvel suscipit tempora delectus soluta\"\n",
      "  },\n",
      "  {\n",
      "    \"postId\": 71,\n",
      "    \"id\": 353,\n",
      "    \"name\": \"consequatur reprehenderit similique vitae dolor debitis\",\n",
      "    \"email\": \"Madaline@marlin.org\",\n",
      "    \"body\": \"nemo aut laborum expedita nisi sed illum\\nab asperiores provident\\na sunt recusandae ut rerum itaque est voluptatibus nihil\\nesse ipsum et repellendus nobis rerum voluptas et\"\n",
      "  },\n",
      "  {\n",
      "    \"postId\": 71,\n",
      "    \"id\": 354,\n",
      "    \"name\": \"eligendi tempora eum deserunt\",\n",
      "    \"email\": \"Mike.Kozey@gladyce.us\",\n",
      "    \"body\": \"delectus est consequatur\\nat excepturi asperiores dolor nesciunt ad\\nid non aut ad ut\\nnon et voluptatem\"\n",
      "  },\n",
      "  {\n",
      "    \"postId\": 71,\n",
      "    \"id\": 355,\n",
      "    \"name\": \"reiciendis ad ea\",\n",
      "    \"email\": \"Orval.Treutel@arnold.me\",\n",
      "    \"body\": \"vel cumque labore vitae quisquam magnam sequi ut\\nmolestiae dolores vel minus aut\\nquas repellat nostrum fugit molestiae veritatis sequi\\nvel quidem in molestiae id doloribus sed\"\n",
      "  }\n",
      "]\n"
     ]
    }
   ],
   "source": [
    "import requests\n",
    "import random\n",
    "import json\n",
    "\n",
    "res = requests.get('https://jsonplaceholder.typicode.com/users')\n",
    "users = res.json()\n",
    "user = None\n",
    "for u in users:\n",
    "    if u['name'] == 'Nicholas Runolfsdottir V':\n",
    "        user = u\n",
    "        break\n",
    "print('User:', user)\n",
    "\n",
    "if user is None:\n",
    "    exit(0)\n",
    "\n",
    "params = {'userId' : user['id']}\n",
    "res = requests.get('https://jsonplaceholder.typicode.com/posts', params)\n",
    "posts = res.json()\n",
    "index = random.randint(0, len(posts) - 1)\n",
    "post_id = posts[index]['id']\n",
    "print(len(posts), 'posts,', index+1, '(', post_id, ') choosen')\n",
    "\n",
    "res = requests.get('https://jsonplaceholder.typicode.com/posts/' + str(post_id) + '/comments')\n",
    "comments = res.json()\n",
    "post_comments = []\n",
    "for comment in comments:\n",
    "    if comment['postId'] == post_id:\n",
    "        post_comments.append(comment)\n",
    "print(json.dumps(post_comments, indent=2))"
   ]
  },
  {
   "cell_type": "code",
   "execution_count": null,
   "metadata": {},
   "outputs": [],
   "source": []
  }
 ],
 "metadata": {
  "kernelspec": {
   "display_name": "Python 3",
   "language": "python",
   "name": "python3"
  },
  "language_info": {
   "codemirror_mode": {
    "name": "ipython",
    "version": 3
   },
   "file_extension": ".py",
   "mimetype": "text/x-python",
   "name": "python",
   "nbconvert_exporter": "python",
   "pygments_lexer": "ipython3",
   "version": "3.7.3"
  }
 },
 "nbformat": 4,
 "nbformat_minor": 2
}
